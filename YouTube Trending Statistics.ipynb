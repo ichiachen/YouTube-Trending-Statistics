{
 "cells": [
  {
   "cell_type": "markdown",
   "metadata": {},
   "source": [
    "# Analysis of Trending YouTube Video Statistics\n"
   ]
  },
  {
   "cell_type": "markdown",
   "metadata": {},
   "source": [
    "Objective: Analyze the data of U.S trending YouTube videos between 2017 and 2019 to find correlations and relationships between video characteristics. Methods used in the project include A/B testing, bootstrapping, visualizations, and data sorting and cleaning."
   ]
  },
  {
   "cell_type": "markdown",
   "metadata": {},
   "source": [
    "By Jack Chen, UC Berkeley Class of 2023\n",
    "\n",
    "ichiachen1@berkeley.edu \n"
   ]
  },
  {
   "cell_type": "code",
   "execution_count": 1,
   "metadata": {},
   "outputs": [],
   "source": [
    "from datascience import *\n",
    "import numpy as np\n",
    "from math import *\n",
    "import matplotlib\n",
    "%matplotlib inline\n",
    "import matplotlib.pyplot as plt\n",
    "plt.style.use('fivethirtyeight')\n",
    "import warnings\n",
    "warnings.simplefilter('ignore', FutureWarning)"
   ]
  },
  {
   "cell_type": "markdown",
   "metadata": {},
   "source": [
    "### Trending YouTube Statistics Dataset"
   ]
  },
  {
   "cell_type": "code",
   "execution_count": 2,
   "metadata": {
    "scrolled": false
   },
   "outputs": [
    {
     "data": {
      "text/html": [
       "<table border=\"1\" class=\"dataframe\">\n",
       "    <thead>\n",
       "        <tr>\n",
       "            <th>video_id</th> <th>trending_date</th> <th>title</th> <th>channel_title</th> <th>category_id</th> <th>publish_time</th> <th>tags</th> <th>views</th> <th>likes</th> <th>dislikes</th> <th>comment_count</th> <th>thumbnail_link</th> <th>comments_disabled</th> <th>ratings_disabled</th> <th>video_error_or_removed</th> <th>description</th>\n",
       "        </tr>\n",
       "    </thead>\n",
       "    <tbody>\n",
       "        <tr>\n",
       "            <td>2kyS6SvSYSE</td> <td>17.14.11     </td> <td>WE WANT TO TALK ABOUT OUR MARRIAGE</td> <td>CaseyNeistat </td> <td>22         </td> <td>2017-11-13T17:13:01.000Z</td> <td>SHANtell martin</td> <td>748374</td> <td>57527</td> <td>2966    </td> <td>15954        </td> <td>https://i.ytimg.com/vi/2kyS6SvSYSE/default.jpg</td> <td>False            </td> <td>False           </td> <td>False                 </td> <td>SHANTELL'S CHANNEL - https://www.youtube.com/shantellmar ...</td>\n",
       "        </tr>\n",
       "    </tbody>\n",
       "</table>\n",
       "<p>... (40948 rows omitted)</p>"
      ],
      "text/plain": [
       "<IPython.core.display.HTML object>"
      ]
     },
     "metadata": {},
     "output_type": "display_data"
    }
   ],
   "source": [
    "yt_vids = Table.read_table('USvideos.csv')\n",
    "yt_vids.show(1)"
   ]
  },
  {
   "cell_type": "markdown",
   "metadata": {},
   "source": []
  },
  {
   "cell_type": "markdown",
   "metadata": {},
   "source": [
    "### Question 1: Do All Capital Letters in the Video Titles Result in More Views?\n"
   ]
  },
  {
   "cell_type": "markdown",
   "metadata": {},
   "source": [
    "We will be answering this question since the number of views is a large factor into whether a YouTube video becomes trending or not.\n",
    "\n",
    "In order to answer this question, we will conduct a hypothesis test (A/B testing), splitting the videos into two groups: one group with all capital letter title videos and another group with non-all capital letter title videos. \n",
    "\n",
    ">Null hypothesis: Among the trending videos, the distribution of the views is the same for videos with all capital letter titles as for videos with non-all capital letter titles. Any difference is in the sample is due to chance.\n",
    "\n",
    ">Alternative hypothesis: The distribution of the views is different between videos with all capital letter titles and videos with non-all capital letter titles.\n",
    "\n",
    ">Test statistic: Average number of views for videos with all capital letters in the title - average number of views for videos with non-all capital letters in the title."
   ]
  },
  {
   "cell_type": "code",
   "execution_count": 34,
   "metadata": {
    "scrolled": true
   },
   "outputs": [],
   "source": [
    "# Dropped unnecessary columns such as Video ID\n",
    "\n",
    "dropped_columns = yt_vids.drop('video_id', 'category_id', 'thumbnail_link', 'video_error_or_removed')"
   ]
  },
  {
   "cell_type": "markdown",
   "metadata": {},
   "source": [
    "### Table With Information of Videos That Were All in Capital Letters."
   ]
  },
  {
   "cell_type": "code",
   "execution_count": 35,
   "metadata": {
    "scrolled": true
   },
   "outputs": [],
   "source": [
    "def uppercasewords(x):\n",
    "    '''Finds whether words in a string are all upper case'''\n",
    "    return x.isupper()\n",
    "\n",
    "upper_cases = dropped_columns.apply(uppercasewords, 'title')\n",
    "all_caps_vids = dropped_columns.with_column('All Caps', upper_cases).where('All Caps', are.equal_to(1))\n",
    "not_all_caps = dropped_columns.with_column('Not All Caps', upper_cases).where('Not All Caps', are.equal_to(0))"
   ]
  },
  {
   "cell_type": "code",
   "execution_count": 36,
   "metadata": {
    "scrolled": true
   },
   "outputs": [
    {
     "name": "stdout",
     "output_type": "stream",
     "text": [
      "Average views of videos with all capital letter titles: 1571173.4019984626 views\n"
     ]
    }
   ],
   "source": [
    "average_view_caps = np.average(all_caps_vids.column('views'))\n",
    "\n",
    "print('Average views of videos with all capital letter titles:', average_view_caps, 'views')"
   ]
  },
  {
   "cell_type": "code",
   "execution_count": 37,
   "metadata": {},
   "outputs": [
    {
     "name": "stdout",
     "output_type": "stream",
     "text": [
      "Average views of videos with non-all capital letter titles: 2414362.973896263 views\n"
     ]
    }
   ],
   "source": [
    "average_view_not_caps = np.average(not_all_caps.column('views'))\n",
    "\n",
    "print('Average views of videos with non-all capital letter titles:', average_view_not_caps, 'views')"
   ]
  },
  {
   "cell_type": "code",
   "execution_count": 38,
   "metadata": {},
   "outputs": [
    {
     "name": "stdout",
     "output_type": "stream",
     "text": [
      "Observed test statistic: -843189.5718978005 views\n"
     ]
    }
   ],
   "source": [
    "def diff(x, y):\n",
    "    '''Finds difference between two numbers of arrays x and y'''\n",
    "    return x - y\n",
    "\n",
    "observed_diff = diff(average_view_caps, average_view_not_caps)\n",
    "print('Observed test statistic:', observed_diff, 'views')"
   ]
  },
  {
   "cell_type": "markdown",
   "metadata": {},
   "source": [
    "### Simulating Empirical Test Statistic"
   ]
  },
  {
   "cell_type": "code",
   "execution_count": 39,
   "metadata": {
    "scrolled": true
   },
   "outputs": [
    {
     "name": "stdout",
     "output_type": "stream",
     "text": [
      "Number of rows in all capital letter table: 2602 rows\n",
      "Number of rows in non-all capital letter table: 38347 rows\n"
     ]
    }
   ],
   "source": [
    "print('Number of rows in all capital letter table:', all_caps_vids.num_rows, 'rows')\n",
    "print('Number of rows in non-all capital letter table:', not_all_caps.num_rows, 'rows')"
   ]
  },
  {
   "cell_type": "markdown",
   "metadata": {},
   "source": [
    ">Since the sample size is drastically different between videos with all capital letter titles and videos with non-all capital letter titles, we will bootstrap random samples of 2602 rows from the table of non-all capital letter titles 25 times to simulate equal representation in sample size and a more accurate representation of average views from non-all capital letter title videos."
   ]
  },
  {
   "cell_type": "code",
   "execution_count": 9,
   "metadata": {
    "scrolled": true
   },
   "outputs": [],
   "source": [
    "# Simulated test statistic\n",
    "\n",
    "view_diff = make_array()\n",
    "views = make_array()\n",
    "\n",
    "for i in np.arange(200):\n",
    "    shuffled_vids = dropped_columns.sample(with_replacement=False)\n",
    "    shuffled_label = shuffled_vids.column('title')\n",
    "    added_title = dropped_columns.with_column('title', shuffled_label)\n",
    "    caps_vids = added_title.apply(uppercasewords, 'title')\n",
    "    caps = added_title.with_column('Caps', caps_vids)\n",
    "    avg_caps = np.average(caps.where('Caps', are.equal_to(1)).column('views'))\n",
    "    \n",
    "    for i in np.arange(25):\n",
    "        sampled_not_caps = caps.where('Caps', are.equal_to(0)).sample(2602, with_replacement=True)\n",
    "        avg_not_caps = np.average(sampled_not_caps.column('views'))\n",
    "        views = np.append(views, avg_not_caps)\n",
    "    \n",
    "    view_diff = np.append(view_diff, avg_caps - np.average(views))"
   ]
  },
  {
   "cell_type": "code",
   "execution_count": 23,
   "metadata": {
    "scrolled": true
   },
   "outputs": [
    {
     "name": "stdout",
     "output_type": "stream",
     "text": [
      "The approximate 95% confidence interval is: -281039.0 to 273172.0\n"
     ]
    },
    {
     "data": {
      "image/png": "[encoded data removed]",
      "text/plain": [
       "<Figure size 432x288 with 1 Axes>"
      ]
     },
     "metadata": {},
     "output_type": "display_data"
    }
   ],
   "source": [
    "# 95% confidence interval\n",
    "\n",
    "differences_table = Table().with_column('Average View Differences', view_diff)\n",
    "differences_table.hist()\n",
    "left = percentile(2.5, view_diff)\n",
    "right = percentile(97.5, view_diff)\n",
    "\n",
    "print('The approximate 95% confidence interval is:', round(left), 'to', round(right))\n",
    "plt.plot(make_array(left, right), make_array(0, 0), color='yellow', lw=8);"
   ]
  },
  {
   "cell_type": "markdown",
   "metadata": {},
   "source": [
    "### Conclusion of Question 1\n",
    "\n",
    ">With the observed value not lying within the 95% confidence interval, the distribution in the histogram above favors the alternative hypothesis that the distribution of the views is different between videos with all capital letter titles and videos with non-all capital letter titles.\n",
    "\n",
    ">In fact, all capital letter title videos tend to perform worse than non-all capital letter title videos, as the observed value is negative, indicating that there tends to be less views in all capital letter title videos, on average, than non-all capital letter title videos. \n"
   ]
  },
  {
   "cell_type": "markdown",
   "metadata": {},
   "source": [
    "### Question 2: Do Videos with Disabled Comments Lead to Less Views?"
   ]
  },
  {
   "cell_type": "markdown",
   "metadata": {},
   "source": [
    "We will be also answering this question since comments can contribute to the number of views, and views are a large factor into whether a YouTube video becomes trending or not.\n",
    "\n",
    "In order to answer this question, we will conduct a hypothesis test (A/B testing), splitting the videos into two groups: one group of videos with disabled comments and another group of videos without disabled comments. \n",
    "\n",
    ">Null hypothesis: The views of videos with disabled comments come from the same underlying distribution as views of videos with non-disabled comments, and any difference is due to random chance.\n",
    "\n",
    ">Alternative hypothesis: The videos with disabled comments have a **lower** amount of views, on average, compared to the views of non-disabled comment videos.\n",
    "\n",
    ">Test statistic: Average number of views of disabled comment videos - average number of views of non-disabled comment videos."
   ]
  },
  {
   "cell_type": "code",
   "execution_count": 40,
   "metadata": {},
   "outputs": [],
   "source": [
    "# Tables for the two groups \n",
    "\n",
    "disabled_ratings = dropped_columns.where('comments_disabled', are.equal_to(1)).column('views')\n",
    "not_disabled_ratings = dropped_columns.where('comments_disabled', are.equal_to(0)).column('views')"
   ]
  },
  {
   "cell_type": "code",
   "execution_count": 42,
   "metadata": {},
   "outputs": [
    {
     "name": "stdout",
     "output_type": "stream",
     "text": [
      "Number of rows in disabled comments table: 633 rows\n",
      "Number of rows in non-disabled comments table: 40316 rows\n"
     ]
    }
   ],
   "source": [
    "print('Number of rows in disabled comments table:', dropped_columns.where('comments_disabled', are.equal_to(1)).num_rows, 'rows')\n",
    "print('Number of rows in non-disabled comments table:',dropped_columns.where('comments_disabled', are.equal_to(0)).num_rows, 'rows')"
   ]
  },
  {
   "cell_type": "markdown",
   "metadata": {},
   "source": [
    ">Since the sample size is drastically different between the two groups, we will bootstrap 633 rows from the table of non-disabled comment videos 25 times to simulate equal representation in sample size and a more accurate representation of average views from non-disabled comment videos."
   ]
  },
  {
   "cell_type": "code",
   "execution_count": 14,
   "metadata": {
    "scrolled": true
   },
   "outputs": [
    {
     "name": "stdout",
     "output_type": "stream",
     "text": [
      "Observed test statistic: 160438.75367934536 views\n"
     ]
    }
   ],
   "source": [
    "disabled = np.average(disabled_ratings)\n",
    "not_disabled = np.average(not_disabled_ratings)\n",
    "differences = disabled - not_disabled\n",
    "print('Observed test statistic:', differences, 'views')"
   ]
  },
  {
   "cell_type": "code",
   "execution_count": 15,
   "metadata": {},
   "outputs": [],
   "source": [
    "# Simulate test statistic\n",
    "\n",
    "non_d_vids = make_array()\n",
    "diff_disable_views = make_array()\n",
    "\n",
    "for i in np.arange(200):\n",
    "    shuffled_t = dropped_columns.sample(with_replacement=False)\n",
    "    shuffled_l = shuffled_t.column('comments_disabled')\n",
    "    added_comments = dropped_columns.with_column('comments_disabled', shuffled_l)\n",
    "    d_comments = np.average(added_comments.where('comments_disabled', are.equal_to(1)).column('views'))\n",
    "    \n",
    "    for i in np.arange(25):\n",
    "        sample_non_disable = added_comments.where('comments_disabled', are.equal_to(0)).sample(633, with_replacement=True)\n",
    "        avg_non_disable = np.average(sample_non_disable.column('views'))\n",
    "        non_d_vids = np.append(non_d_vids, avg_non_disable)\n",
    "        \n",
    "    diff_disable_views = np.append(diff_disable_views, d_comments - np.average(non_d_vids))"
   ]
  },
  {
   "cell_type": "code",
   "execution_count": 26,
   "metadata": {
    "scrolled": true
   },
   "outputs": [
    {
     "data": {
      "image/png": "[encoded data removed]",
      "text/plain": [
       "<Figure size 432x288 with 1 Axes>"
      ]
     },
     "metadata": {},
     "output_type": "display_data"
    }
   ],
   "source": [
    "diff_views = Table().with_column('Average View Differences', diff_disable_views)\n",
    "diff_views.hist()\n",
    "plt.scatter(differences, 0, color='red', s=30, zorder=2);"
   ]
  },
  {
   "cell_type": "code",
   "execution_count": 25,
   "metadata": {},
   "outputs": [
    {
     "data": {
      "text/plain": [
       "0.805"
      ]
     },
     "execution_count": 25,
     "metadata": {},
     "output_type": "execute_result"
    }
   ],
   "source": [
    "# P-value\n",
    "\n",
    "p_value = np.count_nonzero(diff_disable_views <= differences) / len(diff_disable_views)\n",
    "p_value"
   ]
  },
  {
   "cell_type": "code",
   "execution_count": 52,
   "metadata": {},
   "outputs": [
    {
     "data": {
      "text/plain": [
       "0.575"
      ]
     },
     "execution_count": 52,
     "metadata": {},
     "output_type": "execute_result"
    }
   ],
   "source": [
    "# Proportion of average view differences that are less than zero \n",
    "\n",
    "np.count_nonzero(diff_disable_views <= 0) / len(diff_disable_views)"
   ]
  },
  {
   "cell_type": "markdown",
   "metadata": {},
   "source": [
    "### Conclusion of Question 2\n",
    "\n",
    ">With a p-value cutoff of 5%, our p-value of 0.805 (80.5%) indicates that the distribution in the histogram above is consistent with the null hypothesis that the views of videos with disabled comments come from the same underlying distribution as views of videos with non-disabled comments.\n",
    "\n",
    ">However, this is odd because our observed value is out of place compared to the majority of the distribution, which is less than zero for the difference in average views between the two groups. This indicates that disabled comment videos seem to have less views, on average, than non-disabled comment videos. Our observed value seems to be an abnormality here (possibily due to the large difference in sample size when calculating the observed statistic)."
   ]
  },
  {
   "cell_type": "markdown",
   "metadata": {},
   "source": [
    "### Question 3: Do Descriptions Affect the Number of Views in Trending YouTube Videos?"
   ]
  },
  {
   "cell_type": "code",
   "execution_count": 31,
   "metadata": {},
   "outputs": [],
   "source": [
    "def length(x):\n",
    "    '''Finds length, in terms of number of characters, of the video descriptions'''\n",
    "    return len(x)"
   ]
  },
  {
   "cell_type": "code",
   "execution_count": 32,
   "metadata": {
    "scrolled": true
   },
   "outputs": [
    {
     "name": "stdout",
     "output_type": "stream",
     "text": [
      "Average description length is 1031.52277222887 characters\n"
     ]
    }
   ],
   "source": [
    "description_length = dropped_columns.apply(length, 'description')\n",
    "length_tbl = dropped_columns.with_column('Description Length', description_length).relabel('views', 'Average Views')\n",
    "print('Average description length is', np.average(length_tbl.column('Description Length')), 'characters')"
   ]
  },
  {
   "cell_type": "code",
   "execution_count": 33,
   "metadata": {},
   "outputs": [
    {
     "name": "stdout",
     "output_type": "stream",
     "text": [
      "Average views below average description length: 2538400.286585366 views\n",
      "Average views below average description length: 2081109.2703231508 views\n"
     ]
    },
    {
     "data": {
      "image/png": "[encoded data removed]",
      "text/plain": [
       "<Figure size 360x360 with 1 Axes>"
      ]
     },
     "metadata": {},
     "output_type": "display_data"
    }
   ],
   "source": [
    "under_avg = length_tbl.where('Description Length', are.below(1055))\n",
    "above_avg = length_tbl.where('Description Length', are.above(1055))\n",
    "\n",
    "avg_under = np.average(under_avg.column('Average Views'))\n",
    "avg_above = np.average(above_avg.column('Average Views'))\n",
    "\n",
    "\n",
    "print('Average views below average description length:', avg_under, 'views')   \n",
    "print('Average views below average description length:', avg_above, 'views')   \n",
    "length_tbl.scatter('Description Length', 'Average Views')"
   ]
  },
  {
   "cell_type": "markdown",
   "metadata": {},
   "source": [
    "### Conclusion of Question 3\n",
    "Based on averaging the description length of the videos in the dataset, there tends to be **more views, on average, for videos with description character lengths below 1055 than above 1055**. Also, as seen in the scatter plot above, there seems to be a negative association between the description length and the number of views in trending videos."
   ]
  },
  {
   "cell_type": "markdown",
   "metadata": {},
   "source": [
    "### Question 4: What is the Optimal Time to Post a YouTube Video? \n"
   ]
  },
  {
   "cell_type": "code",
   "execution_count": 10,
   "metadata": {
    "scrolled": false
   },
   "outputs": [
    {
     "data": {
      "text/html": [
       "<table border=\"1\" class=\"dataframe\">\n",
       "    <thead>\n",
       "        <tr>\n",
       "            <th>publish_time</th> <th>views</th>\n",
       "        </tr>\n",
       "    </thead>\n",
       "    <tbody>\n",
       "        <tr>\n",
       "            <td>2017-11-13T17:13:01.000Z</td> <td>748374</td>\n",
       "        </tr>\n",
       "    </tbody>\n",
       "</table>\n",
       "<p>... (40948 rows omitted)</p>"
      ],
      "text/plain": [
       "<IPython.core.display.HTML object>"
      ]
     },
     "metadata": {},
     "output_type": "display_data"
    }
   ],
   "source": [
    "# Table with columns of the features \"publish time\" and \"views\"\n",
    "\n",
    "views_and_time = yt_vids.select('publish_time', 'views')\n",
    "views_and_time.show(1)      "
   ]
  },
  {
   "cell_type": "code",
   "execution_count": 11,
   "metadata": {},
   "outputs": [],
   "source": [
    "def year(x):\n",
    "    '''Finds year of publish time for each video '''\n",
    "    if x.startswith('2017'):\n",
    "        return True\n",
    "    elif x.startswith('2018'):\n",
    "        return True\n",
    "    else: \n",
    "        return False \n",
    "\n",
    "def month(x):\n",
    "    '''Finds month of publish time for each video '''\n",
    "    for i in np.arange(0, 13, 1):\n",
    "        count = i\n",
    "        if x.startswith('2017-0' + str(count)) == True:\n",
    "            return str(count) \n",
    "        elif x.startswith('2017-1' + str(count)) == True:\n",
    "            return '1' + str(count)\n",
    "        elif x.startswith('2018-0' + str(count)) == True:\n",
    "            return str(count) \n",
    "        elif x.startswith('2018-1' + str(count)) == True:\n",
    "            return '1' + str(count)\n",
    "        \n",
    "def day(x):\n",
    "    '''Finds year of publish time for each video '''\n",
    "    for i in np.arange(0, 30, 1):\n",
    "        count = i\n",
    "        if x.startswith('2017-01-0' + str(count)) == True:\n",
    "            return str(count) \n",
    "        elif x.startswith('2017-01-1' + str(count)) == True:\n",
    "            return '1' + str(count)\n",
    "        elif x.startswith('2017-01-2' + str(count)) == True:\n",
    "            return '2' + str(count)\n",
    "        elif x.startswith('2017-01-3' + str(count)) == True:\n",
    "            return '3' + str(count) \n",
    "        elif x.startswith('2017-02-0' + str(count)) == True:\n",
    "            return str(count) \n",
    "        elif x.startswith('2017-02-1' + str(count)) == True:\n",
    "            return '1' + str(count)\n",
    "        elif x.startswith('2017-02-2' + str(count)) == True:\n",
    "            return '2' + str(count)\n",
    "        elif x.startswith('2017-02-3' + str(count)) == True:\n",
    "            return '3' + str(count) \n",
    "        elif x.startswith('2017-03-0' + str(count)) == True:\n",
    "            return str(count) \n",
    "        elif x.startswith('2017-03-1' + str(count)) == True:\n",
    "            return '1' + str(count)\n",
    "        elif x.startswith('2017-03-2' + str(count)) == True:\n",
    "            return '2' + str(count)\n",
    "        elif x.startswith('2017-03-3' + str(count)) == True:\n",
    "            return '3' + str(count) \n",
    "        elif x.startswith('2017-04-0' + str(count)) == True:\n",
    "            return str(count) \n",
    "        elif x.startswith('2017-04-1' + str(count)) == True:\n",
    "            return '1' + str(count)\n",
    "        elif x.startswith('2017-04-2' + str(count)) == True:\n",
    "            return '2' + str(count)\n",
    "        elif x.startswith('2017-04-3' + str(count)) == True:\n",
    "            return '3' + str(count) \n",
    "        elif x.startswith('2017-05-0' + str(count)) == True:\n",
    "            return str(count) \n",
    "        elif x.startswith('2017-05-1' + str(count)) == True:\n",
    "            return '1' + str(count)\n",
    "        elif x.startswith('2017-05-2' + str(count)) == True:\n",
    "            return '2' + str(count)\n",
    "        elif x.startswith('2017-05-3' + str(count)) == True:\n",
    "            return '3' + str(count) \n",
    "        elif x.startswith('2017-06-0' + str(count)) == True:\n",
    "            return str(count) \n",
    "        elif x.startswith('2017-06-1' + str(count)) == True:\n",
    "            return '1' + str(count)\n",
    "        elif x.startswith('2017-06-2' + str(count)) == True:\n",
    "            return '2' + str(count)\n",
    "        elif x.startswith('2017-06-3' + str(count)) == True:\n",
    "            return '3' + str(count) \n",
    "        elif x.startswith('2017-07-0' + str(count)) == True:\n",
    "            return str(count) \n",
    "        elif x.startswith('2017-07-1' + str(count)) == True:\n",
    "            return '1' + str(count)\n",
    "        elif x.startswith('2017-07-2' + str(count)) == True:\n",
    "            return '2' + str(count)\n",
    "        elif x.startswith('2017-07-3' + str(count)) == True:\n",
    "            return '3' + str(count) \n",
    "        elif x.startswith('2017-08-0' + str(count)) == True:\n",
    "            return str(count) \n",
    "        elif x.startswith('2017-08-1' + str(count)) == True:\n",
    "            return '1' + str(count)\n",
    "        elif x.startswith('2017-08-2' + str(count)) == True:\n",
    "            return '2' + str(count)\n",
    "        elif x.startswith('2017-08-3' + str(count)) == True:\n",
    "            return '3' + str(count) \n",
    "        elif x.startswith('2017-09-0' + str(count)) == True:\n",
    "            return str(count) \n",
    "        elif x.startswith('2017-09-1' + str(count)) == True:\n",
    "            return '1' + str(count)\n",
    "        elif x.startswith('2017-09-2' + str(count)) == True:\n",
    "            return '2' + str(count)\n",
    "        elif x.startswith('2017-09-3' + str(count)) == True:\n",
    "            return '3' + str(count) \n",
    "        elif x.startswith('2017-10-0' + str(count)) == True:\n",
    "            return str(count) \n",
    "        elif x.startswith('2017-10-1' + str(count)) == True:\n",
    "            return '1' + str(count)\n",
    "        elif x.startswith('2017-10-2' + str(count)) == True:\n",
    "            return '2' + str(count)\n",
    "        elif x.startswith('2017-10-3' + str(count)) == True:\n",
    "            return '3' + str(count) \n",
    "        elif x.startswith('2017-11-0' + str(count)) == True:\n",
    "            return str(count) \n",
    "        elif x.startswith('2017-11-1' + str(count)) == True:\n",
    "            return '1' + str(count)\n",
    "        elif x.startswith('2017-11-2' + str(count)) == True:\n",
    "            return '2' + str(count)\n",
    "        elif x.startswith('2017-11-3' + str(count)) == True:\n",
    "            return '3' + str(count) \n",
    "        elif x.startswith('2017-12-0' + str(count)) == True:\n",
    "            return str(count) \n",
    "        elif x.startswith('2017-12-1' + str(count)) == True:\n",
    "            return '1' + str(count)\n",
    "        elif x.startswith('2017-12-2' + str(count)) == True:\n",
    "            return '2' + str(count)\n",
    "        elif x.startswith('2017-12-3' + str(count)) == True:\n",
    "            return '3' + str(count) \n",
    "        elif x.startswith('2018-01-0' + str(count)) == True:\n",
    "            return str(count) \n",
    "        elif x.startswith('2018-01-1' + str(count)) == True:\n",
    "            return '1' + str(count)\n",
    "        elif x.startswith('2018-01-2' + str(count)) == True:\n",
    "            return '2' + str(count)\n",
    "        elif x.startswith('2018-01-3' + str(count)) == True:\n",
    "            return '3' + str(count) \n",
    "        elif x.startswith('2018-02-0' + str(count)) == True:\n",
    "            return str(count) \n",
    "        elif x.startswith('2018-02-1' + str(count)) == True:\n",
    "            return '1' + str(count)\n",
    "        elif x.startswith('2018-02-2' + str(count)) == True:\n",
    "            return '2' + str(count)\n",
    "        elif x.startswith('2018-02-3' + str(count)) == True:\n",
    "            return '3' + str(count) \n",
    "        elif x.startswith('2018-03-0' + str(count)) == True:\n",
    "            return str(count) \n",
    "        elif x.startswith('2018-03-1' + str(count)) == True:\n",
    "            return '1' + str(count)\n",
    "        elif x.startswith('2018-03-2' + str(count)) == True:\n",
    "            return '2' + str(count)\n",
    "        elif x.startswith('2018-03-3' + str(count)) == True:\n",
    "            return '3' + str(count) \n",
    "        elif x.startswith('2018-04-0' + str(count)) == True:\n",
    "            return str(count) \n",
    "        elif x.startswith('2018-04-1' + str(count)) == True:\n",
    "            return '1' + str(count)\n",
    "        elif x.startswith('2018-04-2' + str(count)) == True:\n",
    "            return '2' + str(count)\n",
    "        elif x.startswith('2018-04-3' + str(count)) == True:\n",
    "            return '3' + str(count) \n",
    "        elif x.startswith('2018-05-0' + str(count)) == True:\n",
    "            return str(count) \n",
    "        elif x.startswith('2018-05-1' + str(count)) == True:\n",
    "            return '1' + str(count)\n",
    "        elif x.startswith('2018-05-2' + str(count)) == True:\n",
    "            return '2' + str(count)\n",
    "        elif x.startswith('2018-05-3' + str(count)) == True:\n",
    "            return '3' + str(count) \n",
    "        elif x.startswith('2018-06-0' + str(count)) == True:\n",
    "            return str(count) \n",
    "        elif x.startswith('2018-06-1' + str(count)) == True:\n",
    "            return '1' + str(count)\n",
    "        elif x.startswith('2018-06-2' + str(count)) == True:\n",
    "            return '2' + str(count)\n",
    "        elif x.startswith('2018-06-3' + str(count)) == True:\n",
    "            return '3' + str(count) \n",
    "        elif x.startswith('2018-07-0' + str(count)) == True:\n",
    "            return str(count) \n",
    "        elif x.startswith('2018-07-1' + str(count)) == True:\n",
    "            return '1' + str(count)\n",
    "        elif x.startswith('2018-07-2' + str(count)) == True:\n",
    "            return '2' + str(count)\n",
    "        elif x.startswith('2018-07-3' + str(count)) == True:\n",
    "            return '3' + str(count) \n",
    "        elif x.startswith('2018-08-0' + str(count)) == True:\n",
    "            return str(count) \n",
    "        elif x.startswith('2018-08-1' + str(count)) == True:\n",
    "            return '1' + str(count)\n",
    "        elif x.startswith('2018-08-2' + str(count)) == True:\n",
    "            return '2' + str(count)\n",
    "        elif x.startswith('2018-08-3' + str(count)) == True:\n",
    "            return '3' + str(count) \n",
    "        elif x.startswith('2018-09-0' + str(count)) == True:\n",
    "            return str(count) \n",
    "        elif x.startswith('2018-09-1' + str(count)) == True:\n",
    "            return '1' + str(count)\n",
    "        elif x.startswith('2018-09-2' + str(count)) == True:\n",
    "            return '2' + str(count)\n",
    "        elif x.startswith('2018-09-3' + str(count)) == True:\n",
    "            return '3' + str(count) \n",
    "        elif x.startswith('2018-10-0' + str(count)) == True:\n",
    "            return str(count) \n",
    "        elif x.startswith('2018-10-1' + str(count)) == True:\n",
    "            return '1' + str(count)\n",
    "        elif x.startswith('2018-10-2' + str(count)) == True:\n",
    "            return '2' + str(count)\n",
    "        elif x.startswith('2018-10-3' + str(count)) == True:\n",
    "            return '3' + str(count) \n",
    "        elif x.startswith('2018-11-0' + str(count)) == True:\n",
    "            return str(count) \n",
    "        elif x.startswith('2018-11-1' + str(count)) == True:\n",
    "            return '1' + str(count)\n",
    "        elif x.startswith('2018-11-2' + str(count)) == True:\n",
    "            return '2' + str(count)\n",
    "        elif x.startswith('2018-11-3' + str(count)) == True:\n",
    "            return '3' + str(count) \n",
    "        elif x.startswith('2018-12-0' + str(count)) == True:\n",
    "            return str(count) \n",
    "        elif x.startswith('2018-12-1' + str(count)) == True:\n",
    "            return '1' + str(count)\n",
    "        elif x.startswith('2018-12-2' + str(count)) == True:\n",
    "            return '2' + str(count)\n",
    "        elif x.startswith('2018-12-3' + str(count)) == True:\n",
    "            return '3' + str(count) "
   ]
  },
  {
   "cell_type": "code",
   "execution_count": 13,
   "metadata": {},
   "outputs": [
    {
     "data": {
      "text/html": [
       "<table border=\"1\" class=\"dataframe\">\n",
       "    <thead>\n",
       "        <tr>\n",
       "            <th>Months</th> <th>Days</th> <th>average views</th>\n",
       "        </tr>\n",
       "    </thead>\n",
       "    <tbody>\n",
       "        <tr>\n",
       "            <td>1     </td> <td>1   </td> <td>447841       </td>\n",
       "        </tr>\n",
       "    </tbody>\n",
       "</table>\n",
       "<p>... (236 rows omitted)</p>"
      ],
      "text/plain": [
       "<IPython.core.display.HTML object>"
      ]
     },
     "metadata": {},
     "output_type": "display_data"
    }
   ],
   "source": [
    "# Average views of videos posted on certain date\n",
    "\n",
    "months = views_and_time.apply(month, 'publish_time')\n",
    "days = views_and_time.apply(day, 'publish_time')\n",
    "year_array = views_and_time.apply(year, 'publish_time')\n",
    "months_and_days = views_and_time.with_columns('Months', months, 'Days', days, 'Year', year_array).where('Year', are.equal_to(1))\n",
    "avg_views_date = months_and_days.select('Months', 'Days', 'views').group(['Months', 'Days'], np.average).relabel('views average', 'average views')\n",
    "\n",
    "avg_views_date.show(1)"
   ]
  },
  {
   "cell_type": "code",
   "execution_count": 15,
   "metadata": {
    "scrolled": true
   },
   "outputs": [
    {
     "name": "stdout",
     "output_type": "stream",
     "text": [
      "The standard deviation for average views by month is 1572885.7484242176\n"
     ]
    },
    {
     "data": {
      "text/html": [
       "<table border=\"1\" class=\"dataframe\">\n",
       "    <thead>\n",
       "        <tr>\n",
       "            <th>Months</th> <th>Average Views</th>\n",
       "        </tr>\n",
       "    </thead>\n",
       "    <tbody>\n",
       "        <tr>\n",
       "            <td>5     </td> <td>4.90455e+06  </td>\n",
       "        </tr>\n",
       "        <tr>\n",
       "            <td>4     </td> <td>3.90087e+06  </td>\n",
       "        </tr>\n",
       "        <tr>\n",
       "            <td>6     </td> <td>3.45394e+06  </td>\n",
       "        </tr>\n",
       "        <tr>\n",
       "            <td>3     </td> <td>2.10025e+06  </td>\n",
       "        </tr>\n",
       "        <tr>\n",
       "            <td>2     </td> <td>1.44792e+06  </td>\n",
       "        </tr>\n",
       "        <tr>\n",
       "            <td>11    </td> <td>1.3275e+06   </td>\n",
       "        </tr>\n",
       "        <tr>\n",
       "            <td>12    </td> <td>1.32176e+06  </td>\n",
       "        </tr>\n",
       "        <tr>\n",
       "            <td>1     </td> <td>1.11489e+06  </td>\n",
       "        </tr>\n",
       "        <tr>\n",
       "            <td>8     </td> <td>77309.6      </td>\n",
       "        </tr>\n",
       "        <tr>\n",
       "            <td>10    </td> <td>34739.8      </td>\n",
       "        </tr>\n",
       "    </tbody>\n",
       "</table>\n",
       "<p>... (1 rows omitted)</p>"
      ],
      "text/plain": [
       "Months | Average Views\n",
       "5      | 4.90455e+06\n",
       "4      | 3.90087e+06\n",
       "6      | 3.45394e+06\n",
       "3      | 2.10025e+06\n",
       "2      | 1.44792e+06\n",
       "11     | 1.3275e+06\n",
       "12     | 1.32176e+06\n",
       "1      | 1.11489e+06\n",
       "8      | 77309.6\n",
       "10     | 34739.8\n",
       "... (1 rows omitted)"
      ]
     },
     "execution_count": 15,
     "metadata": {},
     "output_type": "execute_result"
    }
   ],
   "source": [
    "# Months, in descending order, of highest average view and the standard deviation\n",
    "\n",
    "months_view = months_and_days.select('Months', 'views').group('Months', np.average).sort('views average', \n",
    "            descending = True).relabel('views average', 'Average Views')\n",
    "std_view_month = np.std(months_view.column('Average Views'))\n",
    "\n",
    "print ('The standard deviation for average views by month is', std_view_month)\n",
    "months_view"
   ]
  },
  {
   "cell_type": "code",
   "execution_count": 16,
   "metadata": {},
   "outputs": [
    {
     "data": {
      "image/png": "[encoded data removed]",
      "text/plain": [
       "<Figure size 432x396 with 1 Axes>"
      ]
     },
     "metadata": {},
     "output_type": "display_data"
    }
   ],
   "source": [
    "months_view.barh('Months')"
   ]
  },
  {
   "cell_type": "code",
   "execution_count": 18,
   "metadata": {
    "scrolled": true
   },
   "outputs": [
    {
     "name": "stdout",
     "output_type": "stream",
     "text": [
      "The standard deviation for average views by day is 922186.378081638\n"
     ]
    },
    {
     "data": {
      "text/html": [
       "<table border=\"1\" class=\"dataframe\">\n",
       "    <thead>\n",
       "        <tr>\n",
       "            <th>Days</th> <th>Average Views</th>\n",
       "        </tr>\n",
       "    </thead>\n",
       "    <tbody>\n",
       "        <tr>\n",
       "            <td>6   </td> <td>5.89435e+06  </td>\n",
       "        </tr>\n",
       "        <tr>\n",
       "            <td>4   </td> <td>4.03489e+06  </td>\n",
       "        </tr>\n",
       "        <tr>\n",
       "            <td>24  </td> <td>3.6381e+06   </td>\n",
       "        </tr>\n",
       "        <tr>\n",
       "            <td>18  </td> <td>3.3347e+06   </td>\n",
       "        </tr>\n",
       "        <tr>\n",
       "            <td>9   </td> <td>3.17047e+06  </td>\n",
       "        </tr>\n",
       "        <tr>\n",
       "            <td>10  </td> <td>3.11943e+06  </td>\n",
       "        </tr>\n",
       "        <tr>\n",
       "            <td>20  </td> <td>2.90616e+06  </td>\n",
       "        </tr>\n",
       "        <tr>\n",
       "            <td>12  </td> <td>2.86068e+06  </td>\n",
       "        </tr>\n",
       "        <tr>\n",
       "            <td>29  </td> <td>2.80425e+06  </td>\n",
       "        </tr>\n",
       "        <tr>\n",
       "            <td>3   </td> <td>2.57964e+06  </td>\n",
       "        </tr>\n",
       "    </tbody>\n",
       "</table>\n",
       "<p>... (21 rows omitted)</p>"
      ],
      "text/plain": [
       "Days | Average Views\n",
       "6    | 5.89435e+06\n",
       "4    | 4.03489e+06\n",
       "24   | 3.6381e+06\n",
       "18   | 3.3347e+06\n",
       "9    | 3.17047e+06\n",
       "10   | 3.11943e+06\n",
       "20   | 2.90616e+06\n",
       "12   | 2.86068e+06\n",
       "29   | 2.80425e+06\n",
       "3    | 2.57964e+06\n",
       "... (21 rows omitted)"
      ]
     },
     "execution_count": 18,
     "metadata": {},
     "output_type": "execute_result"
    }
   ],
   "source": [
    "# Days, in descending order, of highest average views and the standard deviation\n",
    "\n",
    "days_view = months_and_days.select('Days', 'views').group('Days', np.average).sort('views average', descending=True).relabel('views average', 'Average Views')\n",
    "std_view_day = np.std(days_view.column('Average Views'))\n",
    "\n",
    "print('The standard deviation for average views by day is', std_view_day)\n",
    "days_view"
   ]
  },
  {
   "cell_type": "code",
   "execution_count": 20,
   "metadata": {},
   "outputs": [
    {
     "data": {
      "image/png": "[encoded data removed]",
      "text/plain": [
       "<Figure size 432x1116 with 1 Axes>"
      ]
     },
     "metadata": {},
     "output_type": "display_data"
    }
   ],
   "source": [
    "days_view.barh('Days')"
   ]
  },
  {
   "cell_type": "code",
   "execution_count": 22,
   "metadata": {
    "scrolled": true
   },
   "outputs": [
    {
     "data": {
      "text/html": [
       "<table border=\"1\" class=\"dataframe\">\n",
       "    <thead>\n",
       "        <tr>\n",
       "            <th>Months</th> <th>Days</th> <th>Average Views</th>\n",
       "        </tr>\n",
       "    </thead>\n",
       "    <tbody>\n",
       "        <tr>\n",
       "            <td>5     </td> <td>6   </td> <td>2.30554e+07  </td>\n",
       "        </tr>\n",
       "    </tbody>\n",
       "</table>"
      ],
      "text/plain": [
       "Months | Days | Average Views\n",
       "5      | 6    | 2.30554e+07"
      ]
     },
     "execution_count": 22,
     "metadata": {},
     "output_type": "execute_result"
    }
   ],
   "source": [
    "# Highest average view date\n",
    "\n",
    "avg_views_date.sort('average views', descending=True).take(0).relabel('average views', 'Average Views')"
   ]
  },
  {
   "cell_type": "markdown",
   "metadata": {},
   "source": [
    "### Conclusion of Question 4\n",
    "\n",
    ">Based on the dates of when the trending videos were published, the date with the highest average view was on **May 6th**, with around 23 million views.\n",
    "\n",
    ">The month where the trending videos received the most average views was in **May**. An interesting observation is that the top five months for highest average views for trending videos were between February and May, and the lowest months were between August and October.\n",
    " \n",
    ">On the other hand, the highest average view for trending videos was on the **sixth of each month**, with the 28th being the lowest."
   ]
  },
  {
   "cell_type": "markdown",
   "metadata": {},
   "source": []
  },
  {
   "cell_type": "markdown",
   "metadata": {},
   "source": []
  },
  {
   "cell_type": "markdown",
   "metadata": {},
   "source": []
  },
  {
   "cell_type": "markdown",
   "metadata": {},
   "source": []
  },
  {
   "cell_type": "markdown",
   "metadata": {},
   "source": []
  },
  {
   "cell_type": "markdown",
   "metadata": {},
   "source": []
  },
  {
   "cell_type": "markdown",
   "metadata": {},
   "source": []
  },
  {
   "cell_type": "markdown",
   "metadata": {},
   "source": []
  },
  {
   "cell_type": "markdown",
   "metadata": {},
   "source": []
  },
  {
   "cell_type": "markdown",
   "metadata": {},
   "source": [
    "### Question 5: What is the Relationship Between Total Views, Total Likes, and the Number of Trending Videos by a YouTube Channel?"
   ]
  },
  {
   "cell_type": "code",
   "execution_count": 23,
   "metadata": {
    "scrolled": true
   },
   "outputs": [
    {
     "data": {
      "text/html": [
       "<table border=\"1\" class=\"dataframe\">\n",
       "    <thead>\n",
       "        <tr>\n",
       "            <th>channel_title</th> <th>views sum</th> <th>likes sum</th> <th>count</th>\n",
       "        </tr>\n",
       "    </thead>\n",
       "    <tbody>\n",
       "        <tr>\n",
       "            <td>ESPN         </td> <td>105654218</td> <td>937723   </td> <td>203  </td>\n",
       "        </tr>\n",
       "    </tbody>\n",
       "</table>\n",
       "<p>... (2206 rows omitted)</p>"
      ],
      "text/plain": [
       "<IPython.core.display.HTML object>"
      ]
     },
     "metadata": {},
     "output_type": "display_data"
    }
   ],
   "source": [
    "# Number of times a YouTube channel trended and their respective total views and total likes\n",
    "\n",
    "number_trend = dropped_columns.select('channel_title', 'views', 'likes').group('channel_title').sort('count', descending=True)\n",
    "views_and_likes_sum = dropped_columns.select('channel_title', 'views', 'likes').group('channel_title', sum).sort('views sum', descending=True)\n",
    "joined_count = views_and_likes_sum.join('channel_title', number_trend).sort('count', descending=True)\n",
    "joined_count.show(1)"
   ]
  },
  {
   "cell_type": "code",
   "execution_count": 37,
   "metadata": {
    "scrolled": true
   },
   "outputs": [
    {
     "data": {
      "image/png": "[encoded data removed]",
      "text/plain": [
       "<Figure size 360x360 with 1 Axes>"
      ]
     },
     "metadata": {},
     "output_type": "display_data"
    }
   ],
   "source": [
    "joined_count.scatter('likes sum', 'views sum', fit_line=True)"
   ]
  },
  {
   "cell_type": "markdown",
   "metadata": {},
   "source": [
    "As seen in the scatter plot above, there is a positive correlation between the total number of likes and total number of views for each channel. There are two outliers, one where the sum of likes is around 200 million and one where the sum of views is around four billion. The outliers are shown in the table below."
   ]
  },
  {
   "cell_type": "code",
   "execution_count": 38,
   "metadata": {
    "scrolled": true
   },
   "outputs": [
    {
     "name": "stderr",
     "output_type": "stream",
     "text": [
      "/opt/anaconda3/lib/python3.7/site-packages/datascience/predicates.py:261: SyntaxWarning: Do not pass an array or list to a predicate.                 If you are trying to find rows where two columns are the                 same, use table.where('c', are.equal_to, table.column('d'))                instead of table.where('c', are.equal_to(table.column('d'))).\n",
      "  SyntaxWarning)\n"
     ]
    },
    {
     "data": {
      "text/html": [
       "<table border=\"1\" class=\"dataframe\">\n",
       "    <thead>\n",
       "        <tr>\n",
       "            <th>channel_title</th> <th>views sum</th> <th>likes sum</th> <th>count</th>\n",
       "        </tr>\n",
       "    </thead>\n",
       "    <tbody>\n",
       "        <tr>\n",
       "            <td>ibighit            </td> <td>2235906679</td> <td>199247121</td> <td>80   </td>\n",
       "        </tr>\n",
       "        <tr>\n",
       "            <td>ChildishGambinoVEVO</td> <td>3758488765</td> <td>96700818 </td> <td>25   </td>\n",
       "        </tr>\n",
       "    </tbody>\n",
       "</table>"
      ],
      "text/plain": [
       "channel_title       | views sum  | likes sum | count\n",
       "ibighit             | 2235906679 | 199247121 | 80\n",
       "ChildishGambinoVEVO | 3758488765 | 96700818  | 25"
      ]
     },
     "execution_count": 38,
     "metadata": {},
     "output_type": "execute_result"
    }
   ],
   "source": [
    "top_view = joined_count.sort('views sum', descending=True).column('channel_title').item(0)\n",
    "top_like = joined_count.sort('likes sum', descending=True).column('channel_title').item(0)\n",
    "like_outlier = joined_count.where('channel_title', are.equal_to(make_array(top_view, top_like)))\n",
    "like_outlier"
   ]
  },
  {
   "cell_type": "markdown",
   "metadata": {},
   "source": [
    "> From a further search on Google, both outliers are popular music channels! "
   ]
  },
  {
   "cell_type": "code",
   "execution_count": 39,
   "metadata": {},
   "outputs": [],
   "source": [
    "# Calculating the regression line\n",
    "\n",
    "def standard_units(array):\n",
    "    '''Returns array in standard units'''\n",
    "    return (array - np.mean(array)) / np.std(array)\n",
    "\n",
    "def correlation(t, label_x, label_y):\n",
    "    '''Returns correlation between label_x and label_y in table t'''\n",
    "    return np.mean(standard_units(t.column(label_x)) * standard_units(t.column(label_y)))\n",
    "\n",
    "def slope(t, label_x, label_y):\n",
    "    '''Returns slope of regression line'''\n",
    "    r = correlation(t, label_x, label_y)\n",
    "    return r * np.std(t.column(label_y)) / np.std(t.column(label_x))\n",
    "\n",
    "def intercept(t, label_x, label_y):\n",
    "    '''Returns slope of intercept line'''\n",
    "    return np.mean(t.column(label_y)) - slope(t, label_x, label_y) * np.mean(t.column(label_x))"
   ]
  },
  {
   "cell_type": "code",
   "execution_count": 40,
   "metadata": {},
   "outputs": [
    {
     "data": {
      "text/plain": [
       "0.8418461559044312"
      ]
     },
     "execution_count": 40,
     "metadata": {},
     "output_type": "execute_result"
    }
   ],
   "source": [
    "correlation = correlation(joined_count, 'likes sum', 'views sum')\n",
    "correlation"
   ]
  },
  {
   "cell_type": "code",
   "execution_count": 42,
   "metadata": {
    "scrolled": true
   },
   "outputs": [
    {
     "data": {
      "text/plain": [
       "22.17141"
      ]
     },
     "execution_count": 42,
     "metadata": {},
     "output_type": "execute_result"
    }
   ],
   "source": [
    "slope = slope(joined_count, 'likes sum', 'views sum')\n",
    "slope"
   ]
  },
  {
   "cell_type": "code",
   "execution_count": 236,
   "metadata": {
    "scrolled": true
   },
   "outputs": [
    {
     "data": {
      "text/plain": [
       "13251134.372646272"
      ]
     },
     "execution_count": 236,
     "metadata": {},
     "output_type": "execute_result"
    }
   ],
   "source": [
    "intercept = intercept(joined_count, 'likes sum', 'views sum')\n",
    "intercept"
   ]
  },
  {
   "cell_type": "markdown",
   "metadata": {},
   "source": [
    "> The scatter plot has a correlation of 0.84, and the regression line is y = 22.17141 * x + 13251134.37 (slope of 22.17141 and y-intercept of 13251134.37)."
   ]
  },
  {
   "cell_type": "code",
   "execution_count": 24,
   "metadata": {
    "scrolled": false
   },
   "outputs": [
    {
     "data": {
      "text/html": [
       "<table border=\"1\" class=\"dataframe\">\n",
       "    <thead>\n",
       "        <tr>\n",
       "            <th>channel_title</th> <th>views sum</th> <th>likes sum</th> <th>count</th>\n",
       "        </tr>\n",
       "    </thead>\n",
       "    <tbody>\n",
       "        <tr>\n",
       "            <td>ESPN                                  </td> <td>105654218</td> <td>937723   </td> <td>203  </td>\n",
       "        </tr>\n",
       "        <tr>\n",
       "            <td>The Tonight Show Starring Jimmy Fallon</td> <td>271426383</td> <td>5981334  </td> <td>197  </td>\n",
       "        </tr>\n",
       "        <tr>\n",
       "            <td>Vox                                   </td> <td>122633963</td> <td>3272518  </td> <td>193  </td>\n",
       "        </tr>\n",
       "        <tr>\n",
       "            <td>TheEllenShow                          </td> <td>253841999</td> <td>6035132  </td> <td>193  </td>\n",
       "        </tr>\n",
       "        <tr>\n",
       "            <td>Netflix                               </td> <td>185818315</td> <td>4211072  </td> <td>193  </td>\n",
       "        </tr>\n",
       "        <tr>\n",
       "            <td>The Late Show with Stephen Colbert    </td> <td>123675646</td> <td>1511686  </td> <td>187  </td>\n",
       "        </tr>\n",
       "        <tr>\n",
       "            <td>Jimmy Kimmel Live                     </td> <td>285418753</td> <td>4844377  </td> <td>186  </td>\n",
       "        </tr>\n",
       "        <tr>\n",
       "            <td>Late Night with Seth Meyers           </td> <td>181602246</td> <td>2098813  </td> <td>183  </td>\n",
       "        </tr>\n",
       "        <tr>\n",
       "            <td>Screen Junkies                        </td> <td>319075554</td> <td>8836325  </td> <td>182  </td>\n",
       "        </tr>\n",
       "        <tr>\n",
       "            <td>NBA                                   </td> <td>72404568 </td> <td>878898   </td> <td>181  </td>\n",
       "        </tr>\n",
       "    </tbody>\n",
       "</table>\n",
       "<p>... (2197 rows omitted)</p>"
      ],
      "text/plain": [
       "channel_title                          | views sum | likes sum | count\n",
       "ESPN                                   | 105654218 | 937723    | 203\n",
       "The Tonight Show Starring Jimmy Fallon | 271426383 | 5981334   | 197\n",
       "Vox                                    | 122633963 | 3272518   | 193\n",
       "TheEllenShow                           | 253841999 | 6035132   | 193\n",
       "Netflix                                | 185818315 | 4211072   | 193\n",
       "The Late Show with Stephen Colbert     | 123675646 | 1511686   | 187\n",
       "Jimmy Kimmel Live                      | 285418753 | 4844377   | 186\n",
       "Late Night with Seth Meyers            | 181602246 | 2098813   | 183\n",
       "Screen Junkies                         | 319075554 | 8836325   | 182\n",
       "NBA                                    | 72404568  | 878898    | 181\n",
       "... (2197 rows omitted)"
      ]
     },
     "execution_count": 24,
     "metadata": {},
     "output_type": "execute_result"
    }
   ],
   "source": [
    "# Sorted in descending order of number of trending videos from each channel\n",
    "\n",
    "joined_count"
   ]
  },
  {
   "cell_type": "code",
   "execution_count": 25,
   "metadata": {
    "scrolled": true
   },
   "outputs": [
    {
     "data": {
      "text/html": [
       "<table border=\"1\" class=\"dataframe\">\n",
       "    <thead>\n",
       "        <tr>\n",
       "            <th>channel_title</th> <th>views sum</th> <th>likes sum</th> <th>count</th>\n",
       "        </tr>\n",
       "    </thead>\n",
       "    <tbody>\n",
       "        <tr>\n",
       "            <td>ChildishGambinoVEVO        </td> <td>3758488765</td> <td>96700818 </td> <td>25   </td>\n",
       "        </tr>\n",
       "        <tr>\n",
       "            <td>ibighit                    </td> <td>2235906679</td> <td>199247121</td> <td>80   </td>\n",
       "        </tr>\n",
       "        <tr>\n",
       "            <td>Dude Perfect               </td> <td>1870085178</td> <td>60275557 </td> <td>131  </td>\n",
       "        </tr>\n",
       "        <tr>\n",
       "            <td>Marvel Entertainment       </td> <td>1808998971</td> <td>55873344 </td> <td>125  </td>\n",
       "        </tr>\n",
       "        <tr>\n",
       "            <td>ArianaGrandeVevo           </td> <td>1576959172</td> <td>52170970 </td> <td>43   </td>\n",
       "        </tr>\n",
       "        <tr>\n",
       "            <td>MalumaVEVO                 </td> <td>1551515831</td> <td>23278380 </td> <td>32   </td>\n",
       "        </tr>\n",
       "        <tr>\n",
       "            <td>jypentertainment           </td> <td>1486972132</td> <td>44900910 </td> <td>64   </td>\n",
       "        </tr>\n",
       "        <tr>\n",
       "            <td>Sony Pictures Entertainment</td> <td>1432374398</td> <td>30106808 </td> <td>88   </td>\n",
       "        </tr>\n",
       "        <tr>\n",
       "            <td>FoxStarHindi               </td> <td>1238609854</td> <td>23762509 </td> <td>32   </td>\n",
       "        </tr>\n",
       "        <tr>\n",
       "            <td>BeckyGVEVO                 </td> <td>1182971286</td> <td>19185287 </td> <td>20   </td>\n",
       "        </tr>\n",
       "    </tbody>\n",
       "</table>\n",
       "<p>... (2197 rows omitted)</p>"
      ],
      "text/plain": [
       "channel_title               | views sum  | likes sum | count\n",
       "ChildishGambinoVEVO         | 3758488765 | 96700818  | 25\n",
       "ibighit                     | 2235906679 | 199247121 | 80\n",
       "Dude Perfect                | 1870085178 | 60275557  | 131\n",
       "Marvel Entertainment        | 1808998971 | 55873344  | 125\n",
       "ArianaGrandeVevo            | 1576959172 | 52170970  | 43\n",
       "MalumaVEVO                  | 1551515831 | 23278380  | 32\n",
       "jypentertainment            | 1486972132 | 44900910  | 64\n",
       "Sony Pictures Entertainment | 1432374398 | 30106808  | 88\n",
       "FoxStarHindi                | 1238609854 | 23762509  | 32\n",
       "BeckyGVEVO                  | 1182971286 | 19185287  | 20\n",
       "... (2197 rows omitted)"
      ]
     },
     "execution_count": 25,
     "metadata": {},
     "output_type": "execute_result"
    }
   ],
   "source": [
    "# Sorted in descending order of number of total views from each channel\n",
    "\n",
    "joined_count.sort('views sum', descending=True)"
   ]
  },
  {
   "cell_type": "code",
   "execution_count": 26,
   "metadata": {
    "scrolled": true
   },
   "outputs": [
    {
     "data": {
      "text/html": [
       "<table border=\"1\" class=\"dataframe\">\n",
       "    <thead>\n",
       "        <tr>\n",
       "            <th>channel_title</th> <th>views sum</th> <th>likes sum</th> <th>count</th>\n",
       "        </tr>\n",
       "    </thead>\n",
       "    <tbody>\n",
       "        <tr>\n",
       "            <td>ibighit             </td> <td>2235906679</td> <td>199247121</td> <td>80   </td>\n",
       "        </tr>\n",
       "        <tr>\n",
       "            <td>ChildishGambinoVEVO </td> <td>3758488765</td> <td>96700818 </td> <td>25   </td>\n",
       "        </tr>\n",
       "        <tr>\n",
       "            <td>Dude Perfect        </td> <td>1870085178</td> <td>60275557 </td> <td>131  </td>\n",
       "        </tr>\n",
       "        <tr>\n",
       "            <td>Marvel Entertainment</td> <td>1808998971</td> <td>55873344 </td> <td>125  </td>\n",
       "        </tr>\n",
       "        <tr>\n",
       "            <td>ArianaGrandeVevo    </td> <td>1576959172</td> <td>52170970 </td> <td>43   </td>\n",
       "        </tr>\n",
       "        <tr>\n",
       "            <td>jypentertainment    </td> <td>1486972132</td> <td>44900910 </td> <td>64   </td>\n",
       "        </tr>\n",
       "        <tr>\n",
       "            <td>TaylorSwiftVEVO     </td> <td>1010955662</td> <td>39292840 </td> <td>49   </td>\n",
       "        </tr>\n",
       "        <tr>\n",
       "            <td>Ed Sheeran          </td> <td>1032288961</td> <td>39279211 </td> <td>47   </td>\n",
       "        </tr>\n",
       "        <tr>\n",
       "            <td>ZaynVEVO            </td> <td>838561451 </td> <td>31695245 </td> <td>39   </td>\n",
       "        </tr>\n",
       "        <tr>\n",
       "            <td>Logan Paul Vlogs    </td> <td>484356303 </td> <td>31545290 </td> <td>24   </td>\n",
       "        </tr>\n",
       "    </tbody>\n",
       "</table>\n",
       "<p>... (2197 rows omitted)</p>"
      ],
      "text/plain": [
       "channel_title        | views sum  | likes sum | count\n",
       "ibighit              | 2235906679 | 199247121 | 80\n",
       "ChildishGambinoVEVO  | 3758488765 | 96700818  | 25\n",
       "Dude Perfect         | 1870085178 | 60275557  | 131\n",
       "Marvel Entertainment | 1808998971 | 55873344  | 125\n",
       "ArianaGrandeVevo     | 1576959172 | 52170970  | 43\n",
       "jypentertainment     | 1486972132 | 44900910  | 64\n",
       "TaylorSwiftVEVO      | 1010955662 | 39292840  | 49\n",
       "Ed Sheeran           | 1032288961 | 39279211  | 47\n",
       "ZaynVEVO             | 838561451  | 31695245  | 39\n",
       "Logan Paul Vlogs     | 484356303  | 31545290  | 24\n",
       "... (2197 rows omitted)"
      ]
     },
     "execution_count": 26,
     "metadata": {},
     "output_type": "execute_result"
    }
   ],
   "source": [
    "# Sorted in descending order of number of total likes from each channel\n",
    "\n",
    "joined_count.sort('likes sum', descending=True)"
   ]
  },
  {
   "cell_type": "code",
   "execution_count": 30,
   "metadata": {},
   "outputs": [
    {
     "name": "stdout",
     "output_type": "stream",
     "text": [
      "Average number of trending videos for channels that were top ten in terms of total views: 18.554145899410965 videos\n"
     ]
    }
   ],
   "source": [
    "print('Average number of trending videos for channels that were top ten in terms of total views:' ,\n",
    "      np.mean(joined_count.sort('views sum', descending=True).column('count')), 'videos')"
   ]
  },
  {
   "cell_type": "markdown",
   "metadata": {},
   "source": [
    "### Conclusion of Question 5\n",
    "\n",
    "> Higher amount of total likes correlated with a higher amount of total views.\n",
    "\n",
    "> The highest number of trending videos from YouTube channels did not result in the most total views or most total likes. In fact, channels that were top ten in terms of total views had only an average of 19 trending videos, and the majority of the channels were from either the music or entertainment industry."
   ]
  },
  {
   "cell_type": "markdown",
   "metadata": {},
   "source": [
    "# Conclusion \n",
    "\n",
    "* There are various correlations between features of trending YouTube videos\n",
    "\n",
    "\n",
    "* Correlation **DOES NOT** equal causation\n",
    "\n",
    "\n",
    "* Numerous confounding factors, such as a larger YouTube user base over time, led to less accurate results \n",
    "\n",
    "\n",
    "> ### Future Improvements:\n",
    "\n",
    "* Use datasets that contain more significant features (i.e. subscribers)\n",
    "\n",
    "\n",
    "* Group data into smaller time frames to obtain a more accurate analysis\n",
    "\n",
    "\n",
    "* Use a more powerful device that can run for loops faster (had to decrease the number of bootstraps and for loops  due to runtime error and kernal dying after a period of time)\n",
    "\n",
    "  \n",
    ">### Summary of Findings on Trending YouTube Videos:\n",
    "\n",
    "1. **All Capital Letter Title Videos:** All capital letter title videos tend to perform worse in terms of views, on average, than non-all capital letter title videos.\n",
    "\n",
    "\n",
    "2. **Disabled Comments:** Disabled comments tend to have less views, on average, compared to non-disabled comment videos.\n",
    "\n",
    "\n",
    "3. **Video Descriptions:** Shorter description lengths correlated to a higher amount of views.\n",
    "\n",
    "\n",
    "4. **Highest Average View Dates:** The highest amount of average views for trending videos was on May 6th, and the top four months were between February and May, with the sixth as the top day for highest amount of average views.\n",
    "\n",
    "\n",
    "5. **Total Likes and Total Views:** The highest total amount of views and likes were mainly from music channels with popular artists."
   ]
  },
  {
   "cell_type": "markdown",
   "metadata": {},
   "source": [
    "#### Work Cited\n",
    "\n",
    "J., Mitchell. 2019. Trending YouTube Video Statistic. YouTube API. Distributed by Kaggle. www.kaggle.com/datasnaek/youtube-new."
   ]
  }
 ],
 "metadata": {
  "kernelspec": {
   "display_name": "Python 3",
   "language": "python",
   "name": "python3"
  },
  "language_info": {
   "codemirror_mode": {
    "name": "ipython",
    "version": 3
   },
   "file_extension": ".py",
   "mimetype": "text/x-python",
   "name": "python",
   "nbconvert_exporter": "python",
   "pygments_lexer": "ipython3",
   "version": "3.7.4"
  }
 },
 "nbformat": 4,
 "nbformat_minor": 2
}
